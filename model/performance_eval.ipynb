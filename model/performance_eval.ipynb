{
 "cells": [
  {
   "cell_type": "markdown",
   "metadata": {},
   "source": [
    "# Performance Evaluation"
   ]
  },
  {
   "cell_type": "code",
   "execution_count": 1,
   "metadata": {},
   "outputs": [],
   "source": [
    "import pandas as pd"
   ]
  },
  {
   "cell_type": "code",
   "execution_count": 29,
   "metadata": {},
   "outputs": [
    {
     "data": {
      "text/html": [
       "<div>\n",
       "<style scoped>\n",
       "    .dataframe tbody tr th:only-of-type {\n",
       "        vertical-align: middle;\n",
       "    }\n",
       "\n",
       "    .dataframe tbody tr th {\n",
       "        vertical-align: top;\n",
       "    }\n",
       "\n",
       "    .dataframe thead th {\n",
       "        text-align: right;\n",
       "    }\n",
       "</style>\n",
       "<table border=\"1\" class=\"dataframe\">\n",
       "  <thead>\n",
       "    <tr style=\"text-align: right;\">\n",
       "      <th></th>\n",
       "      <th>Unnamed: 0</th>\n",
       "      <th>match_name</th>\n",
       "      <th>match_date</th>\n",
       "      <th>format</th>\n",
       "      <th>predicted_score</th>\n",
       "      <th>predicted_std</th>\n",
       "      <th>actual_score</th>\n",
       "      <th>optimal_score</th>\n",
       "      <th>performance_ratio</th>\n",
       "      <th>Player1</th>\n",
       "      <th>...</th>\n",
       "      <th>Top_player7</th>\n",
       "      <th>Top_score7</th>\n",
       "      <th>Top_player8</th>\n",
       "      <th>Top_score8</th>\n",
       "      <th>Top_player9</th>\n",
       "      <th>Top_score9</th>\n",
       "      <th>Top_player10</th>\n",
       "      <th>Top_score10</th>\n",
       "      <th>Top_player11</th>\n",
       "      <th>Top_score11</th>\n",
       "    </tr>\n",
       "  </thead>\n",
       "  <tbody>\n",
       "    <tr>\n",
       "      <th>0</th>\n",
       "      <td>162</td>\n",
       "      <td>MI_New_York-Washington_Freedom-2024-07-06-male...</td>\n",
       "      <td>2024-07-06</td>\n",
       "      <td>T20</td>\n",
       "      <td>521.00</td>\n",
       "      <td>104.80</td>\n",
       "      <td>381</td>\n",
       "      <td>584</td>\n",
       "      <td>0.652397</td>\n",
       "      <td>N Pooran</td>\n",
       "      <td>...</td>\n",
       "      <td>GJ Maxwell</td>\n",
       "      <td>41.0</td>\n",
       "      <td>R Clinton</td>\n",
       "      <td>37.0</td>\n",
       "      <td>M Jansen</td>\n",
       "      <td>35.0</td>\n",
       "      <td>LH Ferguson</td>\n",
       "      <td>31.0</td>\n",
       "      <td>TA Boult</td>\n",
       "      <td>28.0</td>\n",
       "    </tr>\n",
       "    <tr>\n",
       "      <th>1</th>\n",
       "      <td>169</td>\n",
       "      <td>Bhutan-Singapore-2024-07-06-female-T20</td>\n",
       "      <td>2024-07-06</td>\n",
       "      <td>T20</td>\n",
       "      <td>232.40</td>\n",
       "      <td>105.87</td>\n",
       "      <td>293</td>\n",
       "      <td>469</td>\n",
       "      <td>0.624733</td>\n",
       "      <td>N Choden</td>\n",
       "      <td>...</td>\n",
       "      <td>A Gurung</td>\n",
       "      <td>35.0</td>\n",
       "      <td>GK Diviya</td>\n",
       "      <td>35.0</td>\n",
       "      <td>JS Pooranakaran</td>\n",
       "      <td>35.0</td>\n",
       "      <td>Y Choden</td>\n",
       "      <td>34.0</td>\n",
       "      <td>Chado Om</td>\n",
       "      <td>31.0</td>\n",
       "    </tr>\n",
       "    <tr>\n",
       "      <th>2</th>\n",
       "      <td>156</td>\n",
       "      <td>Zimbabwe-India-2024-07-06-male-T20</td>\n",
       "      <td>2024-07-06</td>\n",
       "      <td>T20</td>\n",
       "      <td>627.30</td>\n",
       "      <td>105.36</td>\n",
       "      <td>484</td>\n",
       "      <td>770</td>\n",
       "      <td>0.628571</td>\n",
       "      <td>BJ Bennett</td>\n",
       "      <td>...</td>\n",
       "      <td>LM Jongwe</td>\n",
       "      <td>44.0</td>\n",
       "      <td>Shubman Gill</td>\n",
       "      <td>44.0</td>\n",
       "      <td>B Muzarabani</td>\n",
       "      <td>41.0</td>\n",
       "      <td>WP Masakadza</td>\n",
       "      <td>39.0</td>\n",
       "      <td>C Madande</td>\n",
       "      <td>37.0</td>\n",
       "    </tr>\n",
       "    <tr>\n",
       "      <th>3</th>\n",
       "      <td>147</td>\n",
       "      <td>England-New_Zealand-2024-07-06-female-T20</td>\n",
       "      <td>2024-07-06</td>\n",
       "      <td>T20</td>\n",
       "      <td>578.86</td>\n",
       "      <td>132.15</td>\n",
       "      <td>550</td>\n",
       "      <td>711</td>\n",
       "      <td>0.773558</td>\n",
       "      <td>DN Wyatt</td>\n",
       "      <td>...</td>\n",
       "      <td>SW Bates</td>\n",
       "      <td>60.0</td>\n",
       "      <td>CE Dean</td>\n",
       "      <td>54.0</td>\n",
       "      <td>JM Kerr</td>\n",
       "      <td>54.0</td>\n",
       "      <td>LCN Smith</td>\n",
       "      <td>31.0</td>\n",
       "      <td>AC Kerr</td>\n",
       "      <td>31.0</td>\n",
       "    </tr>\n",
       "    <tr>\n",
       "      <th>4</th>\n",
       "      <td>148</td>\n",
       "      <td>Leicestershire-Derbyshire-2024-07-06-male-T20</td>\n",
       "      <td>2024-07-06</td>\n",
       "      <td>T20</td>\n",
       "      <td>517.58</td>\n",
       "      <td>102.56</td>\n",
       "      <td>553</td>\n",
       "      <td>722</td>\n",
       "      <td>0.765928</td>\n",
       "      <td>RK Patel</td>\n",
       "      <td>...</td>\n",
       "      <td>J Hull</td>\n",
       "      <td>54.0</td>\n",
       "      <td>TAR Scriven</td>\n",
       "      <td>37.0</td>\n",
       "      <td>AHT Donald</td>\n",
       "      <td>33.0</td>\n",
       "      <td>SB Wood</td>\n",
       "      <td>31.0</td>\n",
       "      <td>SG Budinger</td>\n",
       "      <td>23.0</td>\n",
       "    </tr>\n",
       "  </tbody>\n",
       "</table>\n",
       "<p>5 rows × 53 columns</p>\n",
       "</div>"
      ],
      "text/plain": [
       "   Unnamed: 0                                         match_name  match_date  \\\n",
       "0         162  MI_New_York-Washington_Freedom-2024-07-06-male...  2024-07-06   \n",
       "1         169             Bhutan-Singapore-2024-07-06-female-T20  2024-07-06   \n",
       "2         156                 Zimbabwe-India-2024-07-06-male-T20  2024-07-06   \n",
       "3         147          England-New_Zealand-2024-07-06-female-T20  2024-07-06   \n",
       "4         148      Leicestershire-Derbyshire-2024-07-06-male-T20  2024-07-06   \n",
       "\n",
       "  format  predicted_score  predicted_std  actual_score  optimal_score  \\\n",
       "0    T20           521.00         104.80           381            584   \n",
       "1    T20           232.40         105.87           293            469   \n",
       "2    T20           627.30         105.36           484            770   \n",
       "3    T20           578.86         132.15           550            711   \n",
       "4    T20           517.58         102.56           553            722   \n",
       "\n",
       "   performance_ratio     Player1  ...  Top_player7 Top_score7   Top_player8  \\\n",
       "0           0.652397    N Pooran  ...   GJ Maxwell       41.0     R Clinton   \n",
       "1           0.624733    N Choden  ...     A Gurung       35.0     GK Diviya   \n",
       "2           0.628571  BJ Bennett  ...    LM Jongwe       44.0  Shubman Gill   \n",
       "3           0.773558    DN Wyatt  ...     SW Bates       60.0       CE Dean   \n",
       "4           0.765928    RK Patel  ...       J Hull       54.0   TAR Scriven   \n",
       "\n",
       "  Top_score8      Top_player9 Top_score9  Top_player10 Top_score10  \\\n",
       "0       37.0         M Jansen       35.0   LH Ferguson        31.0   \n",
       "1       35.0  JS Pooranakaran       35.0      Y Choden        34.0   \n",
       "2       44.0     B Muzarabani       41.0  WP Masakadza        39.0   \n",
       "3       54.0          JM Kerr       54.0     LCN Smith        31.0   \n",
       "4       37.0       AHT Donald       33.0       SB Wood        31.0   \n",
       "\n",
       "   Top_player11 Top_score11  \n",
       "0      TA Boult        28.0  \n",
       "1      Chado Om        31.0  \n",
       "2     C Madande        37.0  \n",
       "3       AC Kerr        31.0  \n",
       "4   SG Budinger        23.0  \n",
       "\n",
       "[5 rows x 53 columns]"
      ]
     },
     "execution_count": 29,
     "metadata": {},
     "output_type": "execute_result"
    }
   ],
   "source": [
    "df = pd.read_csv(\"../new_results.csv\")\n",
    "df.head()"
   ]
  },
  {
   "cell_type": "markdown",
   "metadata": {},
   "source": [
    "## Overall Performance"
   ]
  },
  {
   "cell_type": "code",
   "execution_count": 30,
   "metadata": {},
   "outputs": [
    {
     "data": {
      "text/plain": [
       "0.7111745348167597"
      ]
     },
     "execution_count": 30,
     "metadata": {},
     "output_type": "execute_result"
    }
   ],
   "source": [
    "df[\"performance_ratio\"].mean()"
   ]
  },
  {
   "cell_type": "markdown",
   "metadata": {},
   "source": [
    "### Formats"
   ]
  },
  {
   "cell_type": "code",
   "execution_count": 35,
   "metadata": {},
   "outputs": [
    {
     "data": {
      "text/plain": [
       "0.7166099212610079"
      ]
     },
     "execution_count": 35,
     "metadata": {},
     "output_type": "execute_result"
    }
   ],
   "source": [
    "df[df[\"format\"] == \"T20\"][\"performance_ratio\"].mean()"
   ]
  },
  {
   "cell_type": "code",
   "execution_count": 36,
   "metadata": {},
   "outputs": [
    {
     "data": {
      "text/plain": [
       "0.6918774681974093"
      ]
     },
     "execution_count": 36,
     "metadata": {},
     "output_type": "execute_result"
    }
   ],
   "source": [
    "df[df[\"format\"] == \"ODI\"][\"performance_ratio\"].mean()"
   ]
  },
  {
   "cell_type": "code",
   "execution_count": 40,
   "metadata": {},
   "outputs": [
    {
     "data": {
      "text/plain": [
       "0.6812368122418295"
      ]
     },
     "execution_count": 40,
     "metadata": {},
     "output_type": "execute_result"
    }
   ],
   "source": [
    "df[df[\"format\"] == \"Test\"][\"performance_ratio\"].mean()"
   ]
  },
  {
   "cell_type": "markdown",
   "metadata": {},
   "source": [
    "### International Teams"
   ]
  },
  {
   "cell_type": "code",
   "execution_count": 48,
   "metadata": {},
   "outputs": [
    {
     "data": {
      "text/plain": [
       "0.7210100801777185"
      ]
     },
     "execution_count": 48,
     "metadata": {},
     "output_type": "execute_result"
    }
   ],
   "source": [
    "intl_teams = [\"Afghanistan\", \"Australia\", \"Bangladesh\", \"England\", \"India\", \n",
    "              \"Ireland\", \"New Zealand\", \"Pakistan\", \"South Africa\", \"Sri Lanka\", \n",
    "              \"West Indies\", \"Zimbabwe\"]\n",
    "\n",
    "df[df[\"match_name\"].apply(lambda x: any(team in x for team in intl_teams))][\"performance_ratio\"].mean()"
   ]
  },
  {
   "cell_type": "code",
   "execution_count": 49,
   "metadata": {},
   "outputs": [
    {
     "name": "stderr",
     "output_type": "stream",
     "text": [
      "C:\\Users\\Sanidhya\\AppData\\Local\\Temp\\ipykernel_15580\\3970469359.py:1: UserWarning: Boolean Series key will be reindexed to match DataFrame index.\n",
      "  df[df[\"format\"] == \"T20\"][df[\"match_name\"].apply(lambda x: any(team in x for team in intl_teams))][\"performance_ratio\"].mean()\n"
     ]
    },
    {
     "data": {
      "text/plain": [
       "0.7284958236011431"
      ]
     },
     "execution_count": 49,
     "metadata": {},
     "output_type": "execute_result"
    }
   ],
   "source": [
    "df[df[\"format\"] == \"T20\"][df[\"match_name\"].apply(lambda x: any(team in x for team in intl_teams))][\"performance_ratio\"].mean()"
   ]
  },
  {
   "cell_type": "code",
   "execution_count": 53,
   "metadata": {},
   "outputs": [
    {
     "data": {
      "text/plain": [
       "0.7111745348167597"
      ]
     },
     "execution_count": 53,
     "metadata": {},
     "output_type": "execute_result"
    }
   ],
   "source": [
    "df[df[\"match_name\"].apply(lambda x: \"male\" in x)][\"performance_ratio\"].mean()"
   ]
  },
  {
   "cell_type": "code",
   "execution_count": 55,
   "metadata": {},
   "outputs": [
    {
     "data": {
      "text/plain": [
       "0.7438860429413973"
      ]
     },
     "execution_count": 55,
     "metadata": {},
     "output_type": "execute_result"
    }
   ],
   "source": [
    "df[df[\"match_name\"].apply(lambda x: \"female\" in x)][\"performance_ratio\"].mean()"
   ]
  },
  {
   "cell_type": "markdown",
   "metadata": {},
   "source": [
    "## IPL Performance"
   ]
  },
  {
   "cell_type": "code",
   "execution_count": null,
   "metadata": {},
   "outputs": [
    {
     "data": {
      "text/html": [
       "<div>\n",
       "<style scoped>\n",
       "    .dataframe tbody tr th:only-of-type {\n",
       "        vertical-align: middle;\n",
       "    }\n",
       "\n",
       "    .dataframe tbody tr th {\n",
       "        vertical-align: top;\n",
       "    }\n",
       "\n",
       "    .dataframe thead th {\n",
       "        text-align: right;\n",
       "    }\n",
       "</style>\n",
       "<table border=\"1\" class=\"dataframe\">\n",
       "  <thead>\n",
       "    <tr style=\"text-align: right;\">\n",
       "      <th></th>\n",
       "      <th>Unnamed: 0</th>\n",
       "      <th>match_name</th>\n",
       "      <th>match_date</th>\n",
       "      <th>predicted_score</th>\n",
       "      <th>predicted_std</th>\n",
       "      <th>actual_score</th>\n",
       "      <th>optimal_score</th>\n",
       "      <th>performance_ratio</th>\n",
       "      <th>Player1</th>\n",
       "      <th>Predicted_score1</th>\n",
       "      <th>...</th>\n",
       "      <th>Top_player7</th>\n",
       "      <th>Top_score7</th>\n",
       "      <th>Top_player8</th>\n",
       "      <th>Top_score8</th>\n",
       "      <th>Top_player9</th>\n",
       "      <th>Top_score9</th>\n",
       "      <th>Top_player10</th>\n",
       "      <th>Top_score10</th>\n",
       "      <th>Top_player11</th>\n",
       "      <th>Top_score11</th>\n",
       "    </tr>\n",
       "  </thead>\n",
       "  <tbody>\n",
       "  </tbody>\n",
       "</table>\n",
       "<p>0 rows × 52 columns</p>\n",
       "</div>"
      ],
      "text/plain": [
       "Empty DataFrame\n",
       "Columns: [Unnamed: 0, match_name, match_date, predicted_score, predicted_std, actual_score, optimal_score, performance_ratio, Player1, Predicted_score1, Player2, Predicted_score2, Player3, Predicted_score3, Player4, Predicted_score4, Player5, Predicted_score5, Player6, Predicted_score6, Player7, Predicted_score7, Player8, Predicted_score8, Player9, Predicted_score9, Player10, Predicted_score10, Player11, Predicted_score11, Top_player1, Top_score1, Top_player2, Top_score2, Top_player3, Top_score3, Top_player4, Top_score4, Top_player5, Top_score5, Top_player6, Top_score6, Top_player7, Top_score7, Top_player8, Top_score8, Top_player9, Top_score9, Top_player10, Top_score10, Top_player11, Top_score11]\n",
       "Index: []\n",
       "\n",
       "[0 rows x 52 columns]"
      ]
     },
     "execution_count": 8,
     "metadata": {},
     "output_type": "execute_result"
    }
   ],
   "source": [
    "ipl_teams = [\"Chennai_Super_Kings\", \"Delhi_Daredevils\", \"Delhi_Capitals\", \"Kings_XI_Punjab\", \n",
    "             \"Kolkata_Knight_Riders\", \"Mumbai_Indians\", \"Rajasthan_Royals\", \"Royal_Challengers_Bangalore\", \n",
    "             \"Sunrisers_Hyderabad\", \"Pune_Warriors\", \"Rising_Pune_Supergiant\", \"Gujarat_Lions\", \"Deccan_Chargers\",\n",
    "             \"Kochi_Tuskers_Kerala\", \"Punjab_Kings\", \"Lucknow_Super_Giants\"]\n",
    "\n",
    "df[df[\"match_name\"].apply(lambda x: any(team in x for team in ipl_teams))] # Actaully, no IPL matches in the test set"
   ]
  }
 ],
 "metadata": {
  "kernelspec": {
   "display_name": "Python 3",
   "language": "python",
   "name": "python3"
  },
  "language_info": {
   "codemirror_mode": {
    "name": "ipython",
    "version": 3
   },
   "file_extension": ".py",
   "mimetype": "text/x-python",
   "name": "python",
   "nbconvert_exporter": "python",
   "pygments_lexer": "ipython3",
   "version": "3.10.11"
  }
 },
 "nbformat": 4,
 "nbformat_minor": 2
}
