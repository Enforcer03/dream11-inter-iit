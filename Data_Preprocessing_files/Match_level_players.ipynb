{
 "cells": [
  {
   "cell_type": "code",
   "execution_count": 8,
   "id": "d4f31780-f5cf-4083-aa8d-eee03233a949",
   "metadata": {},
   "outputs": [],
   "source": [
    "import pandas as pd\n",
    "import json"
   ]
  },
  {
   "cell_type": "code",
   "execution_count": 9,
   "id": "29b75e6c-543f-4fc1-a88e-0e20353326d7",
   "metadata": {},
   "outputs": [],
   "source": [
    "ODM_After_training_date = pd.read_csv(\"/Users/ayush_arya/Downloads/Inter_IIT_Tech_13/dream11-inter-iit/data/After_training_date_data/ODM_data.csv\")\n",
    "ODI_After_training_date = pd.read_csv(\"/Users/ayush_arya/Downloads/Inter_IIT_Tech_13/dream11-inter-iit/data/After_training_date_data/ODI_data.csv\")\n",
    "Test_After_training_date = pd.read_csv(\"/Users/ayush_arya/Downloads/Inter_IIT_Tech_13/dream11-inter-iit/data/After_training_date_data/Test_data.csv\")\n",
    "MDM_After_training_date = pd.read_csv(\"/Users/ayush_arya/Downloads/Inter_IIT_Tech_13/dream11-inter-iit/data/After_training_date_data/MDM_data.csv\")\n",
    "T20_After_training_date = pd.read_csv(\"/Users/ayush_arya/Downloads/Inter_IIT_Tech_13/dream11-inter-iit/data/After_training_date_data/T20_after_training_date_data.csv\")\n"
   ]
  },
  {
   "cell_type": "code",
   "execution_count": 10,
   "id": "9d42827b-5f7f-45ed-8286-c5e1636d8373",
   "metadata": {},
   "outputs": [],
   "source": [
    "ODI_ODM_Till_training_date = pd.read_csv(\"/Users/ayush_arya/Downloads/Inter_IIT_Tech_13/dream11-inter-iit/data/Till_training_date_data/ODI_ODM_till_training_date_data.csv\")\n",
    "MDM_Test_Till_training_date = pd.read_csv(\"/Users/ayush_arya/Downloads/Inter_IIT_Tech_13/dream11-inter-iit/data/Till_training_date_data/MDM_Test_till_training_date_data.csv\")\n",
    "T20_Till_training_date = pd.read_csv(\"/Users/ayush_arya/Downloads/Inter_IIT_Tech_13/dream11-inter-iit/data/Till_training_date_data/T20_till_training_date_data.csv\")\n"
   ]
  },
  {
   "cell_type": "code",
   "execution_count": 11,
   "id": "5da6a6ef-db9a-47eb-8fde-4f40e8d4a83b",
   "metadata": {},
   "outputs": [],
   "source": [
    "combined_data = pd.concat([ODI_ODM_Till_training_date,MDM_Test_Till_training_date,T20_Till_training_date,ODM_After_training_date,ODI_After_training_date,Test_After_training_date,MDM_After_training_date,T20_After_training_date], axis=0, ignore_index=True)"
   ]
  },
  {
   "cell_type": "code",
   "execution_count": 14,
   "id": "761b306f-f35f-4ffb-b305-43e42f1d4832",
   "metadata": {},
   "outputs": [],
   "source": [
    "combined_data.to_csv(\"/Users/ayush_arya/Downloads/Inter_IIT_Tech_13/dream11-inter-iit/data/Match_Level_players/combined_data.csv\")"
   ]
  },
  {
   "cell_type": "code",
   "execution_count": 7,
   "id": "abd1e3f4-e147-4f7e-a6d7-0b8449938a4b",
   "metadata": {},
   "outputs": [],
   "source": [
    "# Load your CSV file\n",
    "data = combined_squad\n",
    "# Grouping by MatchID and Team to create the JSON structure\n",
    "grouped_data = data.groupby(['MatchID', 'Team'])['Player'].apply(list).reset_index()\n",
    "\n",
    "# Constructing the JSON\n",
    "result = {}\n",
    "for _, row in grouped_data.iterrows():\n",
    "    match_id = row['MatchID']\n",
    "    team_name = row['Team']\n",
    "    players = row['Player']\n",
    "\n",
    "    if match_id not in result:\n",
    "        result[match_id] = {}\n",
    "    result[match_id][team_name] = players\n",
    "\n",
    "# Convert the result to JSON format and print\n",
    "json_output = json.dumps(result, indent=4)\n",
    "with open('/Users/ayush_arya/Downloads/Inter_IIT_Tech_13/dream11-inter-iit/data/Match_Level_players/combined_squad.json', 'w') as json_file:\n",
    "    json_file.write(json_output)\n"
   ]
  },
  {
   "cell_type": "code",
   "execution_count": 21,
   "id": "705c53ae-9373-4641-b3fe-a911625abf33",
   "metadata": {},
   "outputs": [],
   "source": [
    "import csv\n",
    "import json\n",
    "\n",
    "# Initialize an empty dictionary to store the data\n",
    "data = {}\n",
    "\n",
    "# Read the CSV file\n",
    "csv_file_path = '/Users/ayush_arya/Downloads/Inter_IIT_Tech_13/dream11-inter-iit/data/Match_Level_players/combined_data.csv'  # Replace with your CSV file path\n",
    "with open(csv_file_path, 'r') as csvfile:\n",
    "    reader = csv.DictReader(csvfile)\n",
    "    \n",
    "    for row in reader:\n",
    "        date = row['Date']\n",
    "        event = row['Event']\n",
    "        match_id = row['MatchID']\n",
    "        team = row['Team']\n",
    "        opposition_team_name = row['Opposition']\n",
    "        venue = row['Venue']\n",
    "        player = row['Player']\n",
    "        fielder = row['Fielder']  # Add fielder from the row\n",
    "\n",
    "        # Create the key in the format \"Team_VS_OppositionTeamName_Venue\"\n",
    "        key = f\"{team}_VS_{opposition_team_name}_{venue}\"\n",
    "        swapped_key = f\"{opposition_team_name}_VS_{team}_{venue}\"\n",
    "\n",
    "        # Initialize the structure for the date and event if not already in data\n",
    "        if date not in data:\n",
    "            data[date] = {}\n",
    "        \n",
    "        if event not in data[date]:\n",
    "            data[date][event] = {}\n",
    "        \n",
    "        # Check if swapped key already exists, otherwise use the original key\n",
    "        if swapped_key in data[date][event]:\n",
    "            key = swapped_key  # If swapped key exists, use it\n",
    "        elif key not in data[date][event]:\n",
    "            # If neither key exists, create the key using the original key\n",
    "            data[date][event][key] = {}\n",
    "\n",
    "        # Use f-strings for the team keys\n",
    "        team_key = f\"{team}\"\n",
    "        opposition_team_key = f\"{opposition_team_name}\"\n",
    "\n",
    "        # Initialize the team and opposition team arrays if they don't exist\n",
    "        if team_key not in data[date][event][key]:\n",
    "            data[date][event][key][team_key] = []\n",
    "        if opposition_team_key not in data[date][event][key]:\n",
    "            data[date][event][key][opposition_team_key] = []\n",
    "\n",
    "        # Add the player to the respective team list only\n",
    "        if row['Team'] == team and player not in data[date][event][key][team_key]:\n",
    "            data[date][event][key][team_key].append(player)\n",
    "        elif row['Team'] == opposition_team_name and player not in data[date][event][key][opposition_team_key]:\n",
    "            data[date][event][key][opposition_team_key].append(player)\n",
    "\n",
    "        # Add the fielder to the opposition team as a player, if not already present\n",
    "        if row['Team'] == team and fielder and fielder not in data[date][event][key][opposition_team_key]:\n",
    "            data[date][event][key][opposition_team_key].append(fielder)\n",
    "\n",
    "# Convert the dictionary to JSON and print/save to file\n",
    "json_output = json.dumps(data, indent=4)\n",
    "\n",
    "# Alternatively, save the JSON to a file\n",
    "with open('/Users/ayush_arya/Downloads/Inter_IIT_Tech_13/dream11-inter-iit/data/Match_Level_players/Final_datewise_squad.json', 'w') as outfile:\n",
    "    outfile.write(json_output)\n"
   ]
  },
  {
   "cell_type": "code",
   "execution_count": null,
   "id": "8943c92d-5863-4079-8400-755f41e6fc7b",
   "metadata": {},
   "outputs": [],
   "source": []
  }
 ],
 "metadata": {
  "kernelspec": {
   "display_name": "Python 3 (ipykernel)",
   "language": "python",
   "name": "python3"
  },
  "language_info": {
   "codemirror_mode": {
    "name": "ipython",
    "version": 3
   },
   "file_extension": ".py",
   "mimetype": "text/x-python",
   "name": "python",
   "nbconvert_exporter": "python",
   "pygments_lexer": "ipython3",
   "version": "3.9.12"
  }
 },
 "nbformat": 4,
 "nbformat_minor": 5
}
